{
 "cells": [
  {
   "cell_type": "code",
   "execution_count": null,
   "id": "1438ed87-36f9-4d08-bef0-19b5ca8d92d1",
   "metadata": {},
   "outputs": [],
   "source": [
    "# Introduction to Python - Practice Exercise\n",
    "\n",
    "# Task 1: Variable Declaration and Data Types\n",
    "# Declare variables of different types and print their values and types\n",
    "\n",
    "# Task 2: String Manipulation\n",
    "# Create a string variable and use at least 3 different string methods on it\n",
    "\n",
    "# Task 3: Basic Operations\n",
    "# Perform arithmetic, comparison, and logical operations with variables\n",
    "\n",
    "# Task 5: Expression Combination\n",
    "# Write an expression that combines multiple operations and variables\n"
   ]
  },
  {
   "cell_type": "code",
   "execution_count": null,
   "id": "b9fa2c34-7332-4100-b7b8-69c67dff7adb",
   "metadata": {},
   "outputs": [],
   "source": [
    "#Task 1 \n",
    "int \n",
    "Piles_of_paper= 100"
   ]
  },
  {
   "cell_type": "code",
   "execution_count": null,
   "id": "72bba564-110b-411c-a96c-70c571dd104e",
   "metadata": {},
   "outputs": [],
   "source": [
    "#strig\n",
    "Brand_type= \"Channel\""
   ]
  },
  {
   "cell_type": "code",
   "execution_count": null,
   "id": "60d002c7-fad9-49d5-a7dd-dcba8b4698ae",
   "metadata": {},
   "outputs": [],
   "source": [
    "# float \n",
    "bathroom_tiles=34.4"
   ]
  },
  {
   "cell_type": "code",
   "execution_count": 110,
   "id": "48da92da-1091-444d-a880-f7f66f98d399",
   "metadata": {},
   "outputs": [
    {
     "name": "stdout",
     "output_type": "stream",
     "text": [
      "Channel 100 34.4\n"
     ]
    }
   ],
   "source": [
    "#print variable vales\n",
    "print(Brand_type, Piles_of_paper, bathroom_tiles)"
   ]
  },
  {
   "cell_type": "code",
   "execution_count": 111,
   "id": "e2055497-151f-4001-80e4-452394dbe109",
   "metadata": {},
   "outputs": [
    {
     "name": "stdout",
     "output_type": "stream",
     "text": [
      "<class 'int'>\n",
      "<class 'str'>\n",
      "<class 'float'>\n"
     ]
    }
   ],
   "source": [
    "#print variable types\n",
    "print(type(Piles_of_paper))\n",
    "print(type(Brand_name))\n",
    "print(type(bathroom_tiles))"
   ]
  },
  {
   "cell_type": "code",
   "execution_count": 112,
   "id": "66f43fd5-1b93-4032-8082-ae6fc688d6e5",
   "metadata": {},
   "outputs": [],
   "source": [
    "#Task 2\n",
    "Person= \"haRRy\"\n",
    "House= \"GryfFindor\""
   ]
  },
  {
   "cell_type": "code",
   "execution_count": 90,
   "id": "c971d2b2-c4ff-446b-86d5-944bda0a5218",
   "metadata": {},
   "outputs": [
    {
     "name": "stdout",
     "output_type": "stream",
     "text": [
      "HARRY\n"
     ]
    }
   ],
   "source": [
    "print(Person. upper())"
   ]
  },
  {
   "cell_type": "code",
   "execution_count": 91,
   "id": "57a0d59d-21fb-4cfb-8f9a-b9a80b6a9470",
   "metadata": {},
   "outputs": [
    {
     "name": "stdout",
     "output_type": "stream",
     "text": [
      "-1\n"
     ]
    }
   ],
   "source": [
    "print(House.find(\"F\"))"
   ]
  },
  {
   "cell_type": "code",
   "execution_count": 92,
   "id": "b3332efd-75e6-435a-9400-4b5bfbd775e0",
   "metadata": {},
   "outputs": [
    {
     "name": "stdout",
     "output_type": "stream",
     "text": [
      "2\n"
     ]
    }
   ],
   "source": [
    "print(Person. find(\"r\"))"
   ]
  },
  {
   "cell_type": "code",
   "execution_count": 93,
   "id": "492d2246-1f5c-4efe-864c-1b973f5e6880",
   "metadata": {},
   "outputs": [
    {
     "name": "stdout",
     "output_type": "stream",
     "text": [
      "Harry\n"
     ]
    }
   ],
   "source": [
    "print(Person. title())"
   ]
  },
  {
   "cell_type": "code",
   "execution_count": 94,
   "id": "b740e4bc-1660-4e9f-8d7f-d7904adde3ed",
   "metadata": {},
   "outputs": [
    {
     "name": "stdout",
     "output_type": "stream",
     "text": [
      "gRYFFINDOR\n"
     ]
    }
   ],
   "source": [
    "print(House. swapcase())"
   ]
  },
  {
   "cell_type": "code",
   "execution_count": 95,
   "id": "a56faffa-0a2f-4d46-98ec-370a7354bfdf",
   "metadata": {},
   "outputs": [
    {
     "name": "stdout",
     "output_type": "stream",
     "text": [
      "gryffindor\n"
     ]
    }
   ],
   "source": [
    "print(House.casefold())"
   ]
  },
  {
   "cell_type": "code",
   "execution_count": 96,
   "id": "c564e650-8ca5-4320-9c24-e97367f03049",
   "metadata": {},
   "outputs": [],
   "source": [
    "#Task 3\n",
    "b=78"
   ]
  },
  {
   "cell_type": "code",
   "execution_count": 97,
   "id": "26f44fe8-043e-46e1-ae20-098313509418",
   "metadata": {},
   "outputs": [
    {
     "name": "stdout",
     "output_type": "stream",
     "text": [
      "78\n"
     ]
    }
   ],
   "source": [
    "print(b)"
   ]
  },
  {
   "cell_type": "code",
   "execution_count": 98,
   "id": "ce9aced6-7242-49b6-a6b5-26d0e5cd1843",
   "metadata": {},
   "outputs": [],
   "source": [
    "a= 67"
   ]
  },
  {
   "cell_type": "code",
   "execution_count": 100,
   "id": "f85834b9-cfcf-40e2-bdef-1223084200ce",
   "metadata": {},
   "outputs": [
    {
     "name": "stdout",
     "output_type": "stream",
     "text": [
      "67\n"
     ]
    }
   ],
   "source": [
    "print(a)"
   ]
  },
  {
   "cell_type": "code",
   "execution_count": 101,
   "id": "9b55dbed-48cd-455d-9509-d2cd0bd63531",
   "metadata": {},
   "outputs": [
    {
     "data": {
      "text/plain": [
       "(145,\n",
       " 11,\n",
       " 5226,\n",
       " 1.164179104477612,\n",
       " 67,\n",
       " 27154049831894061570587102173470231458276852257636510384505881154902954349932410979454517584082720723402338533602083967188239901611270924342009)"
      ]
     },
     "execution_count": 101,
     "metadata": {},
     "output_type": "execute_result"
    }
   ],
   "source": [
    "a+b, b-a, b*a, b/a, a%b, a**b"
   ]
  },
  {
   "cell_type": "code",
   "execution_count": 102,
   "id": "095d4ce1-1cbd-43c4-ba56-d698cb540016",
   "metadata": {},
   "outputs": [
    {
     "data": {
      "text/plain": [
       "(False, False, True)"
      ]
     },
     "execution_count": 102,
     "metadata": {},
     "output_type": "execute_result"
    }
   ],
   "source": [
    "a>b, b<a, b>a"
   ]
  },
  {
   "cell_type": "code",
   "execution_count": 103,
   "id": "877c1f50-9579-40d0-a256-7d657d8533f7",
   "metadata": {},
   "outputs": [
    {
     "data": {
      "text/plain": [
       "True"
      ]
     },
     "execution_count": 103,
     "metadata": {},
     "output_type": "execute_result"
    }
   ],
   "source": [
    "a!=b"
   ]
  },
  {
   "cell_type": "code",
   "execution_count": 104,
   "id": "ebafa51f-883d-4fd1-9cd5-d376868432c6",
   "metadata": {},
   "outputs": [
    {
     "data": {
      "text/plain": [
       "True"
      ]
     },
     "execution_count": 104,
     "metadata": {},
     "output_type": "execute_result"
    }
   ],
   "source": [
    "b!=a"
   ]
  },
  {
   "cell_type": "code",
   "execution_count": 105,
   "id": "8a877095-33bb-469f-92b2-d53a04a253f9",
   "metadata": {},
   "outputs": [
    {
     "data": {
      "text/plain": [
       "False"
      ]
     },
     "execution_count": 105,
     "metadata": {},
     "output_type": "execute_result"
    }
   ],
   "source": [
    "a==b"
   ]
  },
  {
   "cell_type": "code",
   "execution_count": 107,
   "id": "a99c4c6f-6ab3-45e1-a0ef-75c00b65749d",
   "metadata": {},
   "outputs": [
    {
     "data": {
      "text/plain": [
       "False"
      ]
     },
     "execution_count": 107,
     "metadata": {},
     "output_type": "execute_result"
    }
   ],
   "source": [
    "b==a"
   ]
  },
  {
   "cell_type": "code",
   "execution_count": 108,
   "id": "836439ba-a26c-4bed-b3b0-91015e48b70b",
   "metadata": {},
   "outputs": [
    {
     "data": {
      "text/plain": [
       "False"
      ]
     },
     "execution_count": 108,
     "metadata": {},
     "output_type": "execute_result"
    }
   ],
   "source": [
    "a>=b"
   ]
  },
  {
   "cell_type": "code",
   "execution_count": 109,
   "id": "121c497e-ad6d-4f71-89c7-62493c65f6a0",
   "metadata": {},
   "outputs": [
    {
     "data": {
      "text/plain": [
       "False"
      ]
     },
     "execution_count": 109,
     "metadata": {},
     "output_type": "execute_result"
    }
   ],
   "source": [
    "b<=a"
   ]
  }
 ],
 "metadata": {
  "kernelspec": {
   "display_name": "Python 3 (ipykernel)",
   "language": "python",
   "name": "python3"
  },
  "language_info": {
   "codemirror_mode": {
    "name": "ipython",
    "version": 3
   },
   "file_extension": ".py",
   "mimetype": "text/x-python",
   "name": "python",
   "nbconvert_exporter": "python",
   "pygments_lexer": "ipython3",
   "version": "3.13.2"
  }
 },
 "nbformat": 4,
 "nbformat_minor": 5
}
